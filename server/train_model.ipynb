{
 "cells": [
  {
   "cell_type": "code",
   "execution_count": 4,
   "id": "ccbc79bb",
   "metadata": {},
   "outputs": [
    {
     "name": "stdout",
     "output_type": "stream",
     "text": [
      "\n",
      "加载数据文件夹: /mnt/dataset0/xkp/closed-loop/server/data/sub2/pre_eeg_1\n",
      "从 pre_eeg_1 加载了 150 个标签\n",
      "从 pre_eeg_1 加载了 150 个EEG样本，形状为 (150, 64, 250)\n",
      "\n",
      "加载数据文件夹: /mnt/dataset0/xkp/closed-loop/server/data/sub2/pre_eeg_2\n",
      "从 pre_eeg_2 加载了 150 个标签\n",
      "从 pre_eeg_2 加载了 150 个EEG样本，形状为 (150, 64, 250)\n",
      "\n",
      "加载数据文件夹: /mnt/dataset0/xkp/closed-loop/server/data/sub2/pre_eeg_3\n",
      "从 pre_eeg_3 加载了 150 个标签\n",
      "从 pre_eeg_3 加载了 150 个EEG样本，形状为 (150, 64, 250)\n",
      "\n",
      "加载数据文件夹: /mnt/dataset0/xkp/closed-loop/server/data/sub2/pre_eeg_4\n",
      "从 pre_eeg_4 加载了 150 个标签\n",
      "从 pre_eeg_4 加载了 150 个EEG样本，形状为 (150, 64, 250)\n",
      "\n",
      "加载数据文件夹: /mnt/dataset0/xkp/closed-loop/server/data/sub2/pre_eeg_5\n",
      "从 pre_eeg_5 加载了 150 个标签\n",
      "从 pre_eeg_5 加载了 150 个EEG样本，形状为 (150, 64, 250)\n",
      "\n",
      "成功合并数据 - 共 750 个样本，750 个标签\n",
      "合并后的EEG数据形状: (750, 64, 250)\n",
      "标签分布: (array(['Amu', 'Dis'], dtype='<U3'), array([375, 375]))\n"
     ]
    }
   ],
   "source": [
    "import os\n",
    "import numpy as np\n",
    "import pandas as pd\n",
    "import glob\n",
    "\n",
    "from server_utils import get_binary_labels, get_selected_channel_idxes, extract_emotion_psd_features, train_emotion_classifier\n",
    "\n",
    "# 参数设置\n",
    "fs = 250\n",
    "subject_id = 2  # 修改为当前受试者编号\n",
    "base_data_path = f\"/mnt/dataset0/xkp/closed-loop/server/data/sub{subject_id}\"\n",
    "eeg_folders = [\"pre_eeg_1\", \"pre_eeg_2\", \"pre_eeg_3\", \"pre_eeg_4\", \"pre_eeg_5\"]  # 要加载的所有预实验数据文件夹\n",
    "\n",
    "# 存储所有实验数据\n",
    "all_eeg_data = []\n",
    "all_labels = []\n",
    "\n",
    "# 从每个实验文件夹加载数据\n",
    "for folder in eeg_folders:\n",
    "    folder_path = os.path.join(base_data_path, folder)\n",
    "    \n",
    "    if not os.path.exists(folder_path):\n",
    "        print(f\"警告: 文件夹 {folder_path} 不存在，跳过\")\n",
    "        continue\n",
    "    \n",
    "    print(f\"\\n加载数据文件夹: {folder_path}\")\n",
    "    \n",
    "    # 加载标签\n",
    "    labels_path = os.path.join(folder_path, \"labels.npy\")\n",
    "    if os.path.exists(labels_path):\n",
    "        labels = np.load(labels_path)\n",
    "        print(f\"从 {folder} 加载了 {len(labels)} 个标签\")\n",
    "    else:\n",
    "        print(f\"警告: 在 {folder} 中没有找到labels.npy文件\")\n",
    "        continue\n",
    "    \n",
    "    # 加载EEG文件\n",
    "    eeg_files = sorted([f for f in os.listdir(folder_path) \n",
    "                 if f.endswith('.npy') and f != 'labels.npy'])\n",
    "    \n",
    "    if len(eeg_files) != len(labels):\n",
    "        print(f\"警告: {folder} 中的EEG文件数量 ({len(eeg_files)}) 与标签数量 ({len(labels)}) 不匹配\")\n",
    "        continue\n",
    "    \n",
    "    # 加载EEG数据\n",
    "    eeg_file_paths = [os.path.join(folder_path, f) for f in eeg_files]\n",
    "    eeg_data = np.array([np.load(file) for file in eeg_file_paths])\n",
    "    \n",
    "    print(f\"从 {folder} 加载了 {len(eeg_data)} 个EEG样本，形状为 {eeg_data.shape}\")\n",
    "    \n",
    "    # 将数据添加到总集合中\n",
    "    all_eeg_data.append(eeg_data)\n",
    "    all_labels.extend(labels)\n",
    "\n",
    "# 合并所有数据\n",
    "if all_eeg_data:\n",
    "    combined_eeg_data = np.concatenate(all_eeg_data, axis=0)\n",
    "    combined_labels = np.array(all_labels)\n",
    "    \n",
    "    print(f\"\\n成功合并数据 - 共 {len(combined_eeg_data)} 个样本，{len(combined_labels)} 个标签\")\n",
    "    print(f\"合并后的EEG数据形状: {combined_eeg_data.shape}\")\n",
    "    print(f\"标签分布: {np.unique(combined_labels, return_counts=True)}\")\n",
    "else:\n",
    "    print(\"错误: 没有成功加载任何数据\")"
   ]
  },
  {
   "cell_type": "code",
   "execution_count": 5,
   "id": "bbc8a500",
   "metadata": {},
   "outputs": [
    {
     "name": "stderr",
     "output_type": "stream",
     "text": [
      "/home/xkp/miniconda3/envs/BCI/lib/python3.10/site-packages/joblib/parallel.py:1792: RuntimeWarning: Iterative multi-taper PSD computation did not converge.\n",
      "  res = func(*args, **kwargs)\n",
      "/home/xkp/miniconda3/envs/BCI/lib/python3.10/site-packages/joblib/parallel.py:1792: RuntimeWarning: Iterative multi-taper PSD computation did not converge.\n",
      "  res = func(*args, **kwargs)\n",
      "/home/xkp/miniconda3/envs/BCI/lib/python3.10/site-packages/joblib/parallel.py:1792: RuntimeWarning: Iterative multi-taper PSD computation did not converge.\n",
      "  res = func(*args, **kwargs)\n",
      "/home/xkp/miniconda3/envs/BCI/lib/python3.10/site-packages/joblib/parallel.py:1792: RuntimeWarning: Iterative multi-taper PSD computation did not converge.\n",
      "  res = func(*args, **kwargs)\n",
      "/home/xkp/miniconda3/envs/BCI/lib/python3.10/site-packages/joblib/parallel.py:1792: RuntimeWarning: Iterative multi-taper PSD computation did not converge.\n",
      "  res = func(*args, **kwargs)\n",
      "/home/xkp/miniconda3/envs/BCI/lib/python3.10/site-packages/joblib/parallel.py:1792: RuntimeWarning: Iterative multi-taper PSD computation did not converge.\n",
      "  res = func(*args, **kwargs)\n",
      "/home/xkp/miniconda3/envs/BCI/lib/python3.10/site-packages/joblib/parallel.py:1792: RuntimeWarning: Iterative multi-taper PSD computation did not converge.\n",
      "  res = func(*args, **kwargs)\n",
      "/home/xkp/miniconda3/envs/BCI/lib/python3.10/site-packages/joblib/parallel.py:1792: RuntimeWarning: Iterative multi-taper PSD computation did not converge.\n",
      "  res = func(*args, **kwargs)\n",
      "/home/xkp/miniconda3/envs/BCI/lib/python3.10/site-packages/joblib/parallel.py:1792: RuntimeWarning: Iterative multi-taper PSD computation did not converge.\n",
      "  res = func(*args, **kwargs)\n",
      "/home/xkp/miniconda3/envs/BCI/lib/python3.10/site-packages/joblib/parallel.py:1792: RuntimeWarning: Iterative multi-taper PSD computation did not converge.\n",
      "  res = func(*args, **kwargs)\n",
      "/home/xkp/miniconda3/envs/BCI/lib/python3.10/site-packages/joblib/parallel.py:1792: RuntimeWarning: Iterative multi-taper PSD computation did not converge.\n",
      "  res = func(*args, **kwargs)\n",
      "/home/xkp/miniconda3/envs/BCI/lib/python3.10/site-packages/joblib/parallel.py:1792: RuntimeWarning: Iterative multi-taper PSD computation did not converge.\n",
      "  res = func(*args, **kwargs)\n",
      "/home/xkp/miniconda3/envs/BCI/lib/python3.10/site-packages/joblib/parallel.py:1792: RuntimeWarning: Iterative multi-taper PSD computation did not converge.\n",
      "  res = func(*args, **kwargs)\n",
      "/home/xkp/miniconda3/envs/BCI/lib/python3.10/site-packages/joblib/parallel.py:1792: RuntimeWarning: Iterative multi-taper PSD computation did not converge.\n",
      "  res = func(*args, **kwargs)\n"
     ]
    },
    {
     "name": "stdout",
     "output_type": "stream",
     "text": [
      "选择的通道索引: [23, 43, 49, 60]\n",
      "========= Extracting features from 750 samples =========\n"
     ]
    },
    {
     "name": "stderr",
     "output_type": "stream",
     "text": [
      "/home/xkp/miniconda3/envs/BCI/lib/python3.10/site-packages/joblib/parallel.py:1792: RuntimeWarning: Iterative multi-taper PSD computation did not converge.\n",
      "  res = func(*args, **kwargs)\n",
      "/home/xkp/miniconda3/envs/BCI/lib/python3.10/site-packages/joblib/parallel.py:1792: RuntimeWarning: Iterative multi-taper PSD computation did not converge.\n",
      "  res = func(*args, **kwargs)\n",
      "/home/xkp/miniconda3/envs/BCI/lib/python3.10/site-packages/joblib/parallel.py:1792: RuntimeWarning: Iterative multi-taper PSD computation did not converge.\n",
      "  res = func(*args, **kwargs)\n",
      "/home/xkp/miniconda3/envs/BCI/lib/python3.10/site-packages/joblib/parallel.py:1792: RuntimeWarning: Iterative multi-taper PSD computation did not converge.\n",
      "  res = func(*args, **kwargs)\n"
     ]
    },
    {
     "name": "stdout",
     "output_type": "stream",
     "text": [
      "提取的特征形状: (750, 504)\n",
      "有效标签数量: 750\n",
      "最佳参数: {'classifier__max_depth': None, 'classifier__min_samples_split': 2, 'classifier__n_estimators': 50}\n",
      "\n",
      "分类器报告:\n",
      "              precision    recall  f1-score   support\n",
      "\n",
      "           0       1.00      1.00      1.00        75\n",
      "           1       1.00      1.00      1.00        75\n",
      "\n",
      "    accuracy                           1.00       150\n",
      "   macro avg       1.00      1.00      1.00       150\n",
      "weighted avg       1.00      1.00      1.00       150\n",
      "\n"
     ]
    }
   ],
   "source": [
    "# 转换标签\n",
    "combined_labels = get_binary_labels(combined_labels)\n",
    "\n",
    "# 获取选定的通道\n",
    "selected_channel_idxes = get_selected_channel_idxes(combined_eeg_data, fs, 4)\n",
    "print(\"选择的通道索引:\", selected_channel_idxes)\n",
    "\n",
    "# 提取特征并训练分类器\n",
    "features, valid_labels = extract_emotion_psd_features(combined_eeg_data, combined_labels, fs, selected_channel_idxes)\n",
    "print(f\"提取的特征形状: {features.shape}\")\n",
    "print(f\"有效标签数量: {len(valid_labels)}\")\n",
    "\n",
    "# 训练分类器和评估\n",
    "clf, report, y_test, y_pred = train_emotion_classifier(features, valid_labels, 0.2, 42)\n",
    "print(\"\\n分类器报告:\")\n",
    "print(report)"
   ]
  },
  {
   "cell_type": "code",
   "execution_count": 6,
   "id": "24581101",
   "metadata": {},
   "outputs": [
    {
     "data": {
      "image/png": "[encoded data removed]",
      "text/plain": [
       "<Figure size 800x600 with 1 Axes>"
      ]
     },
     "metadata": {},
     "output_type": "display_data"
    },
    {
     "name": "stdout",
     "output_type": "stream",
     "text": [
      "图表已保存为sub2_metrics_chart.png和sub2_confusion_matrix.png\n",
      "分类器模型已保存至 /mnt/dataset0/xkp/closed-loop/server/data/sub2/emotion_classifier.pkl\n"
     ]
    },
    {
     "data": {
      "text/plain": [
       "<Figure size 1000x600 with 0 Axes>"
      ]
     },
     "metadata": {},
     "output_type": "display_data"
    },
    {
     "data": {
      "image/png": "[encoded data removed]",
      "text/plain": [
       "<Figure size 640x480 with 1 Axes>"
      ]
     },
     "metadata": {},
     "output_type": "display_data"
    }
   ],
   "source": [
    "# 使用pandas生成报告并绘制图表\n",
    "from sklearn.metrics import confusion_matrix, classification_report\n",
    "import matplotlib.pyplot as plt\n",
    "import seaborn as sns\n",
    "\n",
    "# 1. 混淆矩阵可视化\n",
    "cm = confusion_matrix(y_test, y_pred)\n",
    "class_names = ['Dis', 'Amu']  # 根据你的标签类型调整\n",
    "cm_df = pd.DataFrame(cm, index=class_names, columns=class_names)\n",
    "\n",
    "plt.figure(figsize=(8, 6))\n",
    "sns.heatmap(cm_df, annot=True, fmt='d', cmap='Blues', cbar=False)\n",
    "plt.title('Confusion Matrix')\n",
    "plt.ylabel('Real Label')\n",
    "plt.xlabel('Predicted Label')\n",
    "plt.tight_layout()\n",
    "plt.savefig(f'sub{subject_id}_confusion_matrix.png')\n",
    "plt.show()\n",
    "\n",
    "# 2. 性能指标条形图\n",
    "report_dict = classification_report(y_test, y_pred, output_dict=True)\n",
    "df_report = pd.DataFrame(report_dict).transpose()\n",
    "df_metrics = df_report.iloc[:-3]\n",
    "df_metrics = df_metrics.rename(index={'0': 'Dis', '1': 'Amu'})\n",
    "\n",
    "metrics = ['precision', 'recall', 'f1-score']\n",
    "df_plot = df_metrics[metrics]\n",
    "\n",
    "plt.figure(figsize=(10, 6))\n",
    "df_plot.plot(kind='bar', colormap='viridis')\n",
    "plt.title('Classification Report Metrics')\n",
    "plt.ylabel('Score')\n",
    "plt.xlabel('Class')\n",
    "plt.ylim(0, 1.0)\n",
    "plt.legend(title='Metrics', loc='upper left')\n",
    "plt.grid(axis='y', linestyle='--', alpha=0.7)\n",
    "plt.tight_layout()\n",
    "plt.savefig(f'sub{subject_id}_metrics_chart.png')\n",
    "print(f\"图表已保存为sub{subject_id}_metrics_chart.png和sub{subject_id}_confusion_matrix.png\")\n",
    "\n",
    "# 保存模型用于后续实验\n",
    "import pickle\n",
    "model_save_path = os.path.join(base_data_path, 'emotion_classifier.pkl')\n",
    "with open(model_save_path, 'wb') as f:\n",
    "    pickle.dump(clf, f)\n",
    "print(f\"分类器模型已保存至 {model_save_path}\")"
   ]
  }
 ],
 "metadata": {
  "kernelspec": {
   "display_name": "BCI",
   "language": "python",
   "name": "python3"
  },
  "language_info": {
   "codemirror_mode": {
    "name": "ipython",
    "version": 3
   },
   "file_extension": ".py",
   "mimetype": "text/x-python",
   "name": "python",
   "nbconvert_exporter": "python",
   "pygments_lexer": "ipython3",
   "version": "3.10.16"
  }
 },
 "nbformat": 4,
 "nbformat_minor": 5
}
